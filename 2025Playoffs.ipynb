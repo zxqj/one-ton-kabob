{
 "cells": [
  {
   "cell_type": "markdown",
   "metadata": {},
   "source": [
    "## Pair of Teams Past Matchup Data"
   ]
  },
  {
   "cell_type": "code",
   "execution_count": 38,
   "metadata": {
    "ExecuteTime": {
     "end_time": "2025-05-14T08:12:03.581720Z",
     "start_time": "2025-05-14T08:12:03.577459Z"
    }
   },
   "outputs": [],
   "source": [
    "import logging\n",
    "from pathlib import Path\n",
    "import datetime\n",
    "log_file = Path(f\"log/log.log\")\n",
    "log_file.parent.mkdir(parents=True, exist_ok=True)  # Ensure the directory exists\n",
    "logging.basicConfig(\n",
    "    filename=log_file,\n",
    "    level=logging.INFO,\n",
    "    format=\"%(asctime)s - %(levelname)s - %(message)s\",\n",
    "    filemode=\"w\"  # Overwrite the file each time\n",
    ")\n",
    "logger = logging.getLogger(__name__)\n"
   ]
  },
  {
   "cell_type": "code",
   "execution_count": 39,
   "metadata": {
    "ExecuteTime": {
     "end_time": "2025-05-14T08:12:03.606654Z",
     "start_time": "2025-05-14T08:12:03.597641Z"
    }
   },
   "outputs": [],
   "source": [
    "from itertools import combinations\n",
    "from nba_api.stats.endpoints import leaguegamefinder\n",
    "from nba_api.stats.library.parameters import SeasonType\n",
    "import pandas as pd\n",
    "from nba_api.stats.static import teams\n",
    "from pathlib import Path\n",
    "\n",
    "nba_teams = teams.get_teams()\n",
    "# Select the dictionary for the Celtics, which contains their team ID\n",
    "TEAM_IDS = {team['abbreviation']: team['id'] for team in nba_teams}    "
   ]
  },
  {
   "cell_type": "code",
   "execution_count": 40,
   "metadata": {
    "ExecuteTime": {
     "end_time": "2025-05-14T08:12:03.656046Z",
     "start_time": "2025-05-14T08:12:03.650513Z"
    }
   },
   "outputs": [],
   "source": [
    "from rich.table import Table\n",
    "from rich.jupyter import print\n",
    "\n",
    "def show_summary_table(games_summary):\n",
    "    \n",
    "    # Create a Rich Table\n",
    "    table = Table(title=\"2024-2025 Regular Season Matchup Records\")\n",
    "    table.add_column(\"Team A\", justify=\"left\")\n",
    "    table.add_column(\"Team B\", justify=\"left\")\n",
    "    table.add_column(\"Point Difference\", justify=\"right\")\n",
    "    table.add_column(\"Record\", justify=\"center\")\n",
    "    \n",
    "    # Add rows to the table\n",
    "    for teams, info in games_summary.items():\n",
    "        a, b = teams\n",
    "        d = int(info['diff_pts'])\n",
    "        r = info['record']\n",
    "        table.add_row(a, b, str(d), r)\n",
    "    \n",
    "    # Print the table\n",
    "    print(table)\n",
    "\n"
   ]
  },
  {
   "cell_type": "code",
   "metadata": {
    "ExecuteTime": {
     "end_time": "2025-05-14T08:50:37.399700Z",
     "start_time": "2025-05-14T08:50:37.388257Z"
    }
   },
   "source": [
    "from itertools import combinations\n",
    "from nba_api.stats.endpoints import leaguegamefinder\n",
    "from nba_api.stats.library.parameters import SeasonType\n",
    "import pandas as pd\n",
    "\n",
    "def get_all_matchups(team_abbreviations):\n",
    "    \"\"\"\n",
    "    Fetches all matchups for the given team abbreviations and returns a DataFrame.\n",
    "\n",
    "    Parameters:\n",
    "        team_abbreviations (set): A set of team abbreviations (e.g., {'BOS', 'TOR'}).\n",
    "\n",
    "    Returns:\n",
    "        pd.DataFrame: A DataFrame with columns ['date', 'team', 'opp_team', 'pts', 'opp_team_pts'].\n",
    "    \"\"\"\n",
    "    matchups = []\n",
    "    for team_abbr, vs_team_abbr in combinations(team_abbreviations, 2):\n",
    "        team_id, vs_team_id = TEAM_IDS[team_abbr], TEAM_IDS[vs_team_abbr]\n",
    "        gamefinder = leaguegamefinder.LeagueGameFinder(\n",
    "            team_id_nullable=team_id,\n",
    "            vs_team_id_nullable=vs_team_id,\n",
    "            season_nullable=\"2024-25\",\n",
    "            season_type_nullable=SeasonType.regular\n",
    "        )\n",
    "        games = gamefinder.get_data_frames()[0]\n",
    "        logger.info(games[['GAME_DATE', 'MATCHUP', 'PTS', 'PLUS_MINUS']])\n",
    "        for _, game in games.iterrows():\n",
    "            pts_opp = int(game['PTS'] - game['PLUS_MINUS'])\n",
    "            matchup = {\n",
    "                'date': game['GAME_DATE'],\n",
    "                'team': game['MATCHUP'].split(' ')[0],\n",
    "                'opp_team': game['MATCHUP'].split(' ')[-1],\n",
    "                'pts': game['PTS'],\n",
    "                'opp_team_pts': pts_opp\n",
    "            }\n",
    "            matchups.append(matchup)\n",
    "    frame = pd.DataFrame(matchups)\n",
    "    logger.info(frame[['date', 'team', 'opp_team', 'pts', 'opp_team_pts']])\n",
    "    return frame\n",
    "\n",
    "def get_all_matchups_summary(team_abbreviations):\n",
    "    \"\"\"\n",
    "    Calculates the total point differences for each pair of teams in the most current regular season.\n",
    "\n",
    "    Parameters:\n",
    "        team_abbreviations (set): A set of team abbreviations (e.g., {'BOS', 'TOR'}).\n",
    "\n",
    "    Returns:\n",
    "        dict: A dictionary where keys are 2-tuples of team abbreviations, and values are the total difference in points scored by the two teams\n",
    "        over all games where they played each other in the most recent regular season.\n",
    "    \"\"\"\n",
    "    # Fetch all matchups\n",
    "    matchups_df = get_all_matchups(team_abbreviations)\n",
    "\n",
    "    # Initialize a dictionary to store point differences\n",
    "    point_differences = {}\n",
    "    for team_abbr, vs_team_abbr in combinations(team_abbreviations, 2):\n",
    "        info = {}\n",
    "        games = matchups_df[\n",
    "            ((matchups_df['team'] == team_abbr) & (matchups_df['opp_team'] == vs_team_abbr)) |\n",
    "            ((matchups_df['team'] == vs_team_abbr) & (matchups_df['opp_team'] == team_abbr))\n",
    "        ]\n",
    "        info['#'] = len(games)\n",
    "        game_diffs = games['pts'] - games['opp_team_pts']\n",
    "        w = len([x for x in game_diffs if x > 0])\n",
    "        l = len(game_diffs) - w\n",
    "        info['diff_pts'] = game_diffs.sum()\n",
    "        info['record'] = f\"{w}-{l}\"\n",
    "        info['total_pts'] = games['pts'].sum() + games['opp_team_pts'].sum()\n",
    "        point_differences[(team_abbr, vs_team_abbr)] = info\n",
    "        logger.info(games[['date', 'team', 'opp_team', 'pts', 'opp_team_pts']].to_string(index=False))\n",
    "        \n",
    "\n",
    "    return point_differences\n",
    "\n",
    "def summarize_matchups(matchups_df):\n",
    "    # Initialize a dictionary to store point differences\n",
    "    point_differences = {}\n",
    "    for _, game in matchups_df.iterrows():\n",
    "        info = point_differences.setdefault((game['team'], game['opp_team']), {})\n",
    "        info['#'] = info.setdefault('#', 0) + 1\n",
    "        this_game_diff = game['pts'] - game['opp_team_pts']\n",
    "        info['diff_pts'] = info.setdefault('diff_pts', 0) + this_game_diff\n",
    "        w, l = info.setdefault('record', '0-0',).split('-')\n",
    "        w, l = int(w), int(l)\n",
    "        if this_game_diff == 0:\n",
    "            raise \"A TIE GAME\"\n",
    "        w, l = w + int(this_game_diff > 0), l + int(this_game_diff < 0)\n",
    "        info['record'] = f\"{w}-{l}\"\n",
    "        info['total_pts'] = info.setdefault('total_pts', 0) + game['pts']\n",
    "        logger.info(info)\n",
    "\n",
    "    return point_differences"
   ],
   "outputs": [],
   "execution_count": 78
  },
  {
   "metadata": {},
   "cell_type": "code",
   "outputs": [],
   "execution_count": null,
   "source": [
    "def get_all_matchups_summary_new(team_abbreviations):\n",
    "    \"\"\"\n",
    "    Calculates the total point differences for each pair of teams in the most current regular season.\n",
    "\n",
    "    Parameters:\n",
    "        team_abbreviations (set): A set of team abbreviations (e.g., {'BOS', 'TOR'}).\n",
    "\n",
    "    Returns:\n",
    "        dict: A dictionary where keys are 2-tuples of team abbreviations, and values are the total difference in points scored by the two teams\n",
    "        over all games where they played each other in the most recent regular season.\n",
    "    \"\"\"\n",
    "    # Fetch all matchups\n",
    "    matchups_df = get_all_matchups(team_abbreviations)\n",
    "\n",
    "    return summarize_matchups(matchups_df)"
   ]
  },
  {
   "cell_type": "code",
   "metadata": {
    "ExecuteTime": {
     "end_time": "2025-05-14T08:50:39.259497Z",
     "start_time": "2025-05-14T08:50:38.723461Z"
    }
   },
   "source": [
    "west = {'OKC', 'DEN', 'MIN', 'GSW'}\n",
    "east = {'IND', 'BOS', 'NYK', 'CLE'}\n",
    "matchups_df = get_all_matchups(east)\n",
    "print(matchups_df)\n",
    "show_summary_table(summarize_matchups(matchups_df))"
   ],
   "outputs": [
    {
     "data": {
      "text/plain": [
       "NEW\n"
      ],
      "text/html": [
       "<pre style=\"white-space:pre;overflow-x:auto;line-height:normal;font-family:Menlo,'DejaVu Sans Mono',consolas,'Courier New',monospace\">NEW\n",
       "</pre>\n"
      ]
     },
     "metadata": {},
     "output_type": "display_data"
    },
    {
     "data": {
      "text/plain": [
       "\u001B[1;36m4\u001B[0m\n"
      ],
      "text/html": [
       "<pre style=\"white-space:pre;overflow-x:auto;line-height:normal;font-family:Menlo,'DejaVu Sans Mono',consolas,'Courier New',monospace\"><span style=\"color: #008080; text-decoration-color: #008080; font-weight: bold\">4</span>\n",
       "</pre>\n"
      ]
     },
     "metadata": {},
     "output_type": "display_data"
    },
    {
     "data": {
      "text/plain": [
       "    GAME_DATE      MATCHUP  PTS  PLUS_MINUS\n",
       "\u001B[1;36m0\u001B[0m  \u001B[1;36m2025\u001B[0m-\u001B[1;36m04\u001B[0m-\u001B[1;36m11\u001B[0m  NYK vs. CLE  \u001B[1;36m102\u001B[0m        \u001B[1;36m-6.0\u001B[0m\n",
       "\u001B[1;36m1\u001B[0m  \u001B[1;36m2025\u001B[0m-\u001B[1;36m04\u001B[0m-\u001B[1;36m02\u001B[0m    NYK @ CLE  \u001B[1;36m105\u001B[0m       \u001B[1;36m-19.0\u001B[0m\n",
       "\u001B[1;36m2\u001B[0m  \u001B[1;36m2025\u001B[0m-\u001B[1;36m02\u001B[0m-\u001B[1;36m21\u001B[0m    NYK @ CLE  \u001B[1;36m105\u001B[0m       \u001B[1;36m-37.0\u001B[0m\n",
       "\u001B[1;36m3\u001B[0m  \u001B[1;36m2024\u001B[0m-\u001B[1;36m10\u001B[0m-\u001B[1;36m28\u001B[0m  NYK vs. CLE  \u001B[1;36m104\u001B[0m        \u001B[1;36m-6.0\u001B[0m\n"
      ],
      "text/html": [
       "<pre style=\"white-space:pre;overflow-x:auto;line-height:normal;font-family:Menlo,'DejaVu Sans Mono',consolas,'Courier New',monospace\">    GAME_DATE      MATCHUP  PTS  PLUS_MINUS\n",
       "<span style=\"color: #008080; text-decoration-color: #008080; font-weight: bold\">0</span>  <span style=\"color: #008080; text-decoration-color: #008080; font-weight: bold\">2025</span>-<span style=\"color: #008080; text-decoration-color: #008080; font-weight: bold\">04</span>-<span style=\"color: #008080; text-decoration-color: #008080; font-weight: bold\">11</span>  NYK vs. CLE  <span style=\"color: #008080; text-decoration-color: #008080; font-weight: bold\">102</span>        <span style=\"color: #008080; text-decoration-color: #008080; font-weight: bold\">-6.0</span>\n",
       "<span style=\"color: #008080; text-decoration-color: #008080; font-weight: bold\">1</span>  <span style=\"color: #008080; text-decoration-color: #008080; font-weight: bold\">2025</span>-<span style=\"color: #008080; text-decoration-color: #008080; font-weight: bold\">04</span>-<span style=\"color: #008080; text-decoration-color: #008080; font-weight: bold\">02</span>    NYK @ CLE  <span style=\"color: #008080; text-decoration-color: #008080; font-weight: bold\">105</span>       <span style=\"color: #008080; text-decoration-color: #008080; font-weight: bold\">-19.0</span>\n",
       "<span style=\"color: #008080; text-decoration-color: #008080; font-weight: bold\">2</span>  <span style=\"color: #008080; text-decoration-color: #008080; font-weight: bold\">2025</span>-<span style=\"color: #008080; text-decoration-color: #008080; font-weight: bold\">02</span>-<span style=\"color: #008080; text-decoration-color: #008080; font-weight: bold\">21</span>    NYK @ CLE  <span style=\"color: #008080; text-decoration-color: #008080; font-weight: bold\">105</span>       <span style=\"color: #008080; text-decoration-color: #008080; font-weight: bold\">-37.0</span>\n",
       "<span style=\"color: #008080; text-decoration-color: #008080; font-weight: bold\">3</span>  <span style=\"color: #008080; text-decoration-color: #008080; font-weight: bold\">2024</span>-<span style=\"color: #008080; text-decoration-color: #008080; font-weight: bold\">10</span>-<span style=\"color: #008080; text-decoration-color: #008080; font-weight: bold\">28</span>  NYK vs. CLE  <span style=\"color: #008080; text-decoration-color: #008080; font-weight: bold\">104</span>        <span style=\"color: #008080; text-decoration-color: #008080; font-weight: bold\">-6.0</span>\n",
       "</pre>\n"
      ]
     },
     "metadata": {},
     "output_type": "display_data"
    },
    {
     "data": {
      "text/plain": [
       "\u001B[1;36m4\u001B[0m\n"
      ],
      "text/html": [
       "<pre style=\"white-space:pre;overflow-x:auto;line-height:normal;font-family:Menlo,'DejaVu Sans Mono',consolas,'Courier New',monospace\"><span style=\"color: #008080; text-decoration-color: #008080; font-weight: bold\">4</span>\n",
       "</pre>\n"
      ]
     },
     "metadata": {},
     "output_type": "display_data"
    },
    {
     "data": {
      "text/plain": [
       "    GAME_DATE      MATCHUP  PTS  PLUS_MINUS\n",
       "\u001B[1;36m0\u001B[0m  \u001B[1;36m2025\u001B[0m-\u001B[1;36m04\u001B[0m-\u001B[1;36m08\u001B[0m  NYK vs. BOS  \u001B[1;36m117\u001B[0m        \u001B[1;36m-2.0\u001B[0m\n",
       "\u001B[1;36m1\u001B[0m  \u001B[1;36m2025\u001B[0m-\u001B[1;36m02\u001B[0m-\u001B[1;36m23\u001B[0m    NYK @ BOS  \u001B[1;36m105\u001B[0m       \u001B[1;36m-13.0\u001B[0m\n",
       "\u001B[1;36m2\u001B[0m  \u001B[1;36m2025\u001B[0m-\u001B[1;36m02\u001B[0m-\u001B[1;36m08\u001B[0m  NYK vs. BOS  \u001B[1;36m104\u001B[0m       \u001B[1;36m-27.0\u001B[0m\n",
       "\u001B[1;36m3\u001B[0m  \u001B[1;36m2024\u001B[0m-\u001B[1;36m10\u001B[0m-\u001B[1;36m22\u001B[0m    NYK @ BOS  \u001B[1;36m109\u001B[0m       \u001B[1;36m-23.0\u001B[0m\n"
      ],
      "text/html": [
       "<pre style=\"white-space:pre;overflow-x:auto;line-height:normal;font-family:Menlo,'DejaVu Sans Mono',consolas,'Courier New',monospace\">    GAME_DATE      MATCHUP  PTS  PLUS_MINUS\n",
       "<span style=\"color: #008080; text-decoration-color: #008080; font-weight: bold\">0</span>  <span style=\"color: #008080; text-decoration-color: #008080; font-weight: bold\">2025</span>-<span style=\"color: #008080; text-decoration-color: #008080; font-weight: bold\">04</span>-<span style=\"color: #008080; text-decoration-color: #008080; font-weight: bold\">08</span>  NYK vs. BOS  <span style=\"color: #008080; text-decoration-color: #008080; font-weight: bold\">117</span>        <span style=\"color: #008080; text-decoration-color: #008080; font-weight: bold\">-2.0</span>\n",
       "<span style=\"color: #008080; text-decoration-color: #008080; font-weight: bold\">1</span>  <span style=\"color: #008080; text-decoration-color: #008080; font-weight: bold\">2025</span>-<span style=\"color: #008080; text-decoration-color: #008080; font-weight: bold\">02</span>-<span style=\"color: #008080; text-decoration-color: #008080; font-weight: bold\">23</span>    NYK @ BOS  <span style=\"color: #008080; text-decoration-color: #008080; font-weight: bold\">105</span>       <span style=\"color: #008080; text-decoration-color: #008080; font-weight: bold\">-13.0</span>\n",
       "<span style=\"color: #008080; text-decoration-color: #008080; font-weight: bold\">2</span>  <span style=\"color: #008080; text-decoration-color: #008080; font-weight: bold\">2025</span>-<span style=\"color: #008080; text-decoration-color: #008080; font-weight: bold\">02</span>-<span style=\"color: #008080; text-decoration-color: #008080; font-weight: bold\">08</span>  NYK vs. BOS  <span style=\"color: #008080; text-decoration-color: #008080; font-weight: bold\">104</span>       <span style=\"color: #008080; text-decoration-color: #008080; font-weight: bold\">-27.0</span>\n",
       "<span style=\"color: #008080; text-decoration-color: #008080; font-weight: bold\">3</span>  <span style=\"color: #008080; text-decoration-color: #008080; font-weight: bold\">2024</span>-<span style=\"color: #008080; text-decoration-color: #008080; font-weight: bold\">10</span>-<span style=\"color: #008080; text-decoration-color: #008080; font-weight: bold\">22</span>    NYK @ BOS  <span style=\"color: #008080; text-decoration-color: #008080; font-weight: bold\">109</span>       <span style=\"color: #008080; text-decoration-color: #008080; font-weight: bold\">-23.0</span>\n",
       "</pre>\n"
      ]
     },
     "metadata": {},
     "output_type": "display_data"
    },
    {
     "data": {
      "text/plain": [
       "\u001B[1;36m3\u001B[0m\n"
      ],
      "text/html": [
       "<pre style=\"white-space:pre;overflow-x:auto;line-height:normal;font-family:Menlo,'DejaVu Sans Mono',consolas,'Courier New',monospace\"><span style=\"color: #008080; text-decoration-color: #008080; font-weight: bold\">3</span>\n",
       "</pre>\n"
      ]
     },
     "metadata": {},
     "output_type": "display_data"
    },
    {
     "data": {
      "text/plain": [
       "    GAME_DATE      MATCHUP  PTS  PLUS_MINUS\n",
       "\u001B[1;36m0\u001B[0m  \u001B[1;36m2025\u001B[0m-\u001B[1;36m02\u001B[0m-\u001B[1;36m11\u001B[0m    NYK @ IND  \u001B[1;36m128\u001B[0m        \u001B[1;36m13.0\u001B[0m\n",
       "\u001B[1;36m1\u001B[0m  \u001B[1;36m2024\u001B[0m-\u001B[1;36m11\u001B[0m-\u001B[1;36m10\u001B[0m    NYK @ IND  \u001B[1;36m121\u001B[0m       \u001B[1;36m-11.0\u001B[0m\n",
       "\u001B[1;36m2\u001B[0m  \u001B[1;36m2024\u001B[0m-\u001B[1;36m10\u001B[0m-\u001B[1;36m25\u001B[0m  NYK vs. IND  \u001B[1;36m123\u001B[0m        \u001B[1;36m25.0\u001B[0m\n"
      ],
      "text/html": [
       "<pre style=\"white-space:pre;overflow-x:auto;line-height:normal;font-family:Menlo,'DejaVu Sans Mono',consolas,'Courier New',monospace\">    GAME_DATE      MATCHUP  PTS  PLUS_MINUS\n",
       "<span style=\"color: #008080; text-decoration-color: #008080; font-weight: bold\">0</span>  <span style=\"color: #008080; text-decoration-color: #008080; font-weight: bold\">2025</span>-<span style=\"color: #008080; text-decoration-color: #008080; font-weight: bold\">02</span>-<span style=\"color: #008080; text-decoration-color: #008080; font-weight: bold\">11</span>    NYK @ IND  <span style=\"color: #008080; text-decoration-color: #008080; font-weight: bold\">128</span>        <span style=\"color: #008080; text-decoration-color: #008080; font-weight: bold\">13.0</span>\n",
       "<span style=\"color: #008080; text-decoration-color: #008080; font-weight: bold\">1</span>  <span style=\"color: #008080; text-decoration-color: #008080; font-weight: bold\">2024</span>-<span style=\"color: #008080; text-decoration-color: #008080; font-weight: bold\">11</span>-<span style=\"color: #008080; text-decoration-color: #008080; font-weight: bold\">10</span>    NYK @ IND  <span style=\"color: #008080; text-decoration-color: #008080; font-weight: bold\">121</span>       <span style=\"color: #008080; text-decoration-color: #008080; font-weight: bold\">-11.0</span>\n",
       "<span style=\"color: #008080; text-decoration-color: #008080; font-weight: bold\">2</span>  <span style=\"color: #008080; text-decoration-color: #008080; font-weight: bold\">2024</span>-<span style=\"color: #008080; text-decoration-color: #008080; font-weight: bold\">10</span>-<span style=\"color: #008080; text-decoration-color: #008080; font-weight: bold\">25</span>  NYK vs. IND  <span style=\"color: #008080; text-decoration-color: #008080; font-weight: bold\">123</span>        <span style=\"color: #008080; text-decoration-color: #008080; font-weight: bold\">25.0</span>\n",
       "</pre>\n"
      ]
     },
     "metadata": {},
     "output_type": "display_data"
    },
    {
     "data": {
      "text/plain": [
       "\u001B[1;36m4\u001B[0m\n"
      ],
      "text/html": [
       "<pre style=\"white-space:pre;overflow-x:auto;line-height:normal;font-family:Menlo,'DejaVu Sans Mono',consolas,'Courier New',monospace\"><span style=\"color: #008080; text-decoration-color: #008080; font-weight: bold\">4</span>\n",
       "</pre>\n"
      ]
     },
     "metadata": {},
     "output_type": "display_data"
    },
    {
     "data": {
      "text/plain": [
       "    GAME_DATE      MATCHUP  PTS  PLUS_MINUS\n",
       "\u001B[1;36m0\u001B[0m  \u001B[1;36m2025\u001B[0m-\u001B[1;36m02\u001B[0m-\u001B[1;36m28\u001B[0m    CLE @ BOS  \u001B[1;36m123\u001B[0m         \u001B[1;36m7.0\u001B[0m\n",
       "\u001B[1;36m1\u001B[0m  \u001B[1;36m2025\u001B[0m-\u001B[1;36m02\u001B[0m-\u001B[1;36m04\u001B[0m  CLE vs. BOS  \u001B[1;36m105\u001B[0m        \u001B[1;36m-7.0\u001B[0m\n",
       "\u001B[1;36m2\u001B[0m  \u001B[1;36m2024\u001B[0m-\u001B[1;36m12\u001B[0m-\u001B[1;36m01\u001B[0m  CLE vs. BOS  \u001B[1;36m115\u001B[0m         \u001B[1;36m4.0\u001B[0m\n",
       "\u001B[1;36m3\u001B[0m  \u001B[1;36m2024\u001B[0m-\u001B[1;36m11\u001B[0m-\u001B[1;36m19\u001B[0m    CLE @ BOS  \u001B[1;36m117\u001B[0m        \u001B[1;36m-3.0\u001B[0m\n"
      ],
      "text/html": [
       "<pre style=\"white-space:pre;overflow-x:auto;line-height:normal;font-family:Menlo,'DejaVu Sans Mono',consolas,'Courier New',monospace\">    GAME_DATE      MATCHUP  PTS  PLUS_MINUS\n",
       "<span style=\"color: #008080; text-decoration-color: #008080; font-weight: bold\">0</span>  <span style=\"color: #008080; text-decoration-color: #008080; font-weight: bold\">2025</span>-<span style=\"color: #008080; text-decoration-color: #008080; font-weight: bold\">02</span>-<span style=\"color: #008080; text-decoration-color: #008080; font-weight: bold\">28</span>    CLE @ BOS  <span style=\"color: #008080; text-decoration-color: #008080; font-weight: bold\">123</span>         <span style=\"color: #008080; text-decoration-color: #008080; font-weight: bold\">7.0</span>\n",
       "<span style=\"color: #008080; text-decoration-color: #008080; font-weight: bold\">1</span>  <span style=\"color: #008080; text-decoration-color: #008080; font-weight: bold\">2025</span>-<span style=\"color: #008080; text-decoration-color: #008080; font-weight: bold\">02</span>-<span style=\"color: #008080; text-decoration-color: #008080; font-weight: bold\">04</span>  CLE vs. BOS  <span style=\"color: #008080; text-decoration-color: #008080; font-weight: bold\">105</span>        <span style=\"color: #008080; text-decoration-color: #008080; font-weight: bold\">-7.0</span>\n",
       "<span style=\"color: #008080; text-decoration-color: #008080; font-weight: bold\">2</span>  <span style=\"color: #008080; text-decoration-color: #008080; font-weight: bold\">2024</span>-<span style=\"color: #008080; text-decoration-color: #008080; font-weight: bold\">12</span>-<span style=\"color: #008080; text-decoration-color: #008080; font-weight: bold\">01</span>  CLE vs. BOS  <span style=\"color: #008080; text-decoration-color: #008080; font-weight: bold\">115</span>         <span style=\"color: #008080; text-decoration-color: #008080; font-weight: bold\">4.0</span>\n",
       "<span style=\"color: #008080; text-decoration-color: #008080; font-weight: bold\">3</span>  <span style=\"color: #008080; text-decoration-color: #008080; font-weight: bold\">2024</span>-<span style=\"color: #008080; text-decoration-color: #008080; font-weight: bold\">11</span>-<span style=\"color: #008080; text-decoration-color: #008080; font-weight: bold\">19</span>    CLE @ BOS  <span style=\"color: #008080; text-decoration-color: #008080; font-weight: bold\">117</span>        <span style=\"color: #008080; text-decoration-color: #008080; font-weight: bold\">-3.0</span>\n",
       "</pre>\n"
      ]
     },
     "metadata": {},
     "output_type": "display_data"
    },
    {
     "data": {
      "text/plain": [
       "\u001B[1;36m4\u001B[0m\n"
      ],
      "text/html": [
       "<pre style=\"white-space:pre;overflow-x:auto;line-height:normal;font-family:Menlo,'DejaVu Sans Mono',consolas,'Courier New',monospace\"><span style=\"color: #008080; text-decoration-color: #008080; font-weight: bold\">4</span>\n",
       "</pre>\n"
      ]
     },
     "metadata": {},
     "output_type": "display_data"
    },
    {
     "data": {
      "text/plain": [
       "    GAME_DATE      MATCHUP  PTS  PLUS_MINUS\n",
       "\u001B[1;36m0\u001B[0m  \u001B[1;36m2025\u001B[0m-\u001B[1;36m04\u001B[0m-\u001B[1;36m13\u001B[0m  CLE vs. IND  \u001B[1;36m118\u001B[0m        \u001B[1;36m-8.0\u001B[0m\n",
       "\u001B[1;36m1\u001B[0m  \u001B[1;36m2025\u001B[0m-\u001B[1;36m04\u001B[0m-\u001B[1;36m10\u001B[0m    CLE @ IND  \u001B[1;36m112\u001B[0m        \u001B[1;36m-2.0\u001B[0m\n",
       "\u001B[1;36m2\u001B[0m  \u001B[1;36m2025\u001B[0m-\u001B[1;36m01\u001B[0m-\u001B[1;36m14\u001B[0m    CLE @ IND  \u001B[1;36m127\u001B[0m        \u001B[1;36m10.0\u001B[0m\n",
       "\u001B[1;36m3\u001B[0m  \u001B[1;36m2025\u001B[0m-\u001B[1;36m01\u001B[0m-\u001B[1;36m12\u001B[0m  CLE vs. IND   \u001B[1;36m93\u001B[0m       \u001B[1;36m-15.0\u001B[0m\n"
      ],
      "text/html": [
       "<pre style=\"white-space:pre;overflow-x:auto;line-height:normal;font-family:Menlo,'DejaVu Sans Mono',consolas,'Courier New',monospace\">    GAME_DATE      MATCHUP  PTS  PLUS_MINUS\n",
       "<span style=\"color: #008080; text-decoration-color: #008080; font-weight: bold\">0</span>  <span style=\"color: #008080; text-decoration-color: #008080; font-weight: bold\">2025</span>-<span style=\"color: #008080; text-decoration-color: #008080; font-weight: bold\">04</span>-<span style=\"color: #008080; text-decoration-color: #008080; font-weight: bold\">13</span>  CLE vs. IND  <span style=\"color: #008080; text-decoration-color: #008080; font-weight: bold\">118</span>        <span style=\"color: #008080; text-decoration-color: #008080; font-weight: bold\">-8.0</span>\n",
       "<span style=\"color: #008080; text-decoration-color: #008080; font-weight: bold\">1</span>  <span style=\"color: #008080; text-decoration-color: #008080; font-weight: bold\">2025</span>-<span style=\"color: #008080; text-decoration-color: #008080; font-weight: bold\">04</span>-<span style=\"color: #008080; text-decoration-color: #008080; font-weight: bold\">10</span>    CLE @ IND  <span style=\"color: #008080; text-decoration-color: #008080; font-weight: bold\">112</span>        <span style=\"color: #008080; text-decoration-color: #008080; font-weight: bold\">-2.0</span>\n",
       "<span style=\"color: #008080; text-decoration-color: #008080; font-weight: bold\">2</span>  <span style=\"color: #008080; text-decoration-color: #008080; font-weight: bold\">2025</span>-<span style=\"color: #008080; text-decoration-color: #008080; font-weight: bold\">01</span>-<span style=\"color: #008080; text-decoration-color: #008080; font-weight: bold\">14</span>    CLE @ IND  <span style=\"color: #008080; text-decoration-color: #008080; font-weight: bold\">127</span>        <span style=\"color: #008080; text-decoration-color: #008080; font-weight: bold\">10.0</span>\n",
       "<span style=\"color: #008080; text-decoration-color: #008080; font-weight: bold\">3</span>  <span style=\"color: #008080; text-decoration-color: #008080; font-weight: bold\">2025</span>-<span style=\"color: #008080; text-decoration-color: #008080; font-weight: bold\">01</span>-<span style=\"color: #008080; text-decoration-color: #008080; font-weight: bold\">12</span>  CLE vs. IND   <span style=\"color: #008080; text-decoration-color: #008080; font-weight: bold\">93</span>       <span style=\"color: #008080; text-decoration-color: #008080; font-weight: bold\">-15.0</span>\n",
       "</pre>\n"
      ]
     },
     "metadata": {},
     "output_type": "display_data"
    },
    {
     "data": {
      "text/plain": [
       "\u001B[1;36m3\u001B[0m\n"
      ],
      "text/html": [
       "<pre style=\"white-space:pre;overflow-x:auto;line-height:normal;font-family:Menlo,'DejaVu Sans Mono',consolas,'Courier New',monospace\"><span style=\"color: #008080; text-decoration-color: #008080; font-weight: bold\">3</span>\n",
       "</pre>\n"
      ]
     },
     "metadata": {},
     "output_type": "display_data"
    },
    {
     "data": {
      "text/plain": [
       "    GAME_DATE      MATCHUP  PTS  PLUS_MINUS\n",
       "\u001B[1;36m0\u001B[0m  \u001B[1;36m2024\u001B[0m-\u001B[1;36m12\u001B[0m-\u001B[1;36m29\u001B[0m  BOS vs. IND  \u001B[1;36m114\u001B[0m        \u001B[1;36m-9.0\u001B[0m\n",
       "\u001B[1;36m1\u001B[0m  \u001B[1;36m2024\u001B[0m-\u001B[1;36m12\u001B[0m-\u001B[1;36m27\u001B[0m  BOS vs. IND  \u001B[1;36m142\u001B[0m        \u001B[1;36m37.0\u001B[0m\n",
       "\u001B[1;36m2\u001B[0m  \u001B[1;36m2024\u001B[0m-\u001B[1;36m10\u001B[0m-\u001B[1;36m30\u001B[0m    BOS @ IND  \u001B[1;36m132\u001B[0m        \u001B[1;36m-3.0\u001B[0m\n"
      ],
      "text/html": [
       "<pre style=\"white-space:pre;overflow-x:auto;line-height:normal;font-family:Menlo,'DejaVu Sans Mono',consolas,'Courier New',monospace\">    GAME_DATE      MATCHUP  PTS  PLUS_MINUS\n",
       "<span style=\"color: #008080; text-decoration-color: #008080; font-weight: bold\">0</span>  <span style=\"color: #008080; text-decoration-color: #008080; font-weight: bold\">2024</span>-<span style=\"color: #008080; text-decoration-color: #008080; font-weight: bold\">12</span>-<span style=\"color: #008080; text-decoration-color: #008080; font-weight: bold\">29</span>  BOS vs. IND  <span style=\"color: #008080; text-decoration-color: #008080; font-weight: bold\">114</span>        <span style=\"color: #008080; text-decoration-color: #008080; font-weight: bold\">-9.0</span>\n",
       "<span style=\"color: #008080; text-decoration-color: #008080; font-weight: bold\">1</span>  <span style=\"color: #008080; text-decoration-color: #008080; font-weight: bold\">2024</span>-<span style=\"color: #008080; text-decoration-color: #008080; font-weight: bold\">12</span>-<span style=\"color: #008080; text-decoration-color: #008080; font-weight: bold\">27</span>  BOS vs. IND  <span style=\"color: #008080; text-decoration-color: #008080; font-weight: bold\">142</span>        <span style=\"color: #008080; text-decoration-color: #008080; font-weight: bold\">37.0</span>\n",
       "<span style=\"color: #008080; text-decoration-color: #008080; font-weight: bold\">2</span>  <span style=\"color: #008080; text-decoration-color: #008080; font-weight: bold\">2024</span>-<span style=\"color: #008080; text-decoration-color: #008080; font-weight: bold\">10</span>-<span style=\"color: #008080; text-decoration-color: #008080; font-weight: bold\">30</span>    BOS @ IND  <span style=\"color: #008080; text-decoration-color: #008080; font-weight: bold\">132</span>        <span style=\"color: #008080; text-decoration-color: #008080; font-weight: bold\">-3.0</span>\n",
       "</pre>\n"
      ]
     },
     "metadata": {},
     "output_type": "display_data"
    },
    {
     "data": {
      "text/plain": [
       "          date team opp_team  pts  opp_team_pts\n",
       "\u001B[1;36m0\u001B[0m   \u001B[1;36m2025\u001B[0m-\u001B[1;36m04\u001B[0m-\u001B[1;36m11\u001B[0m  NYK      NYK  \u001B[1;36m102\u001B[0m           \u001B[1;36m108\u001B[0m\n",
       "\u001B[1;36m1\u001B[0m   \u001B[1;36m2025\u001B[0m-\u001B[1;36m04\u001B[0m-\u001B[1;36m02\u001B[0m  NYK      CLE  \u001B[1;36m105\u001B[0m           \u001B[1;36m124\u001B[0m\n",
       "\u001B[1;36m2\u001B[0m   \u001B[1;36m2025\u001B[0m-\u001B[1;36m02\u001B[0m-\u001B[1;36m21\u001B[0m  NYK      CLE  \u001B[1;36m105\u001B[0m           \u001B[1;36m142\u001B[0m\n",
       "\u001B[1;36m3\u001B[0m   \u001B[1;36m2024\u001B[0m-\u001B[1;36m10\u001B[0m-\u001B[1;36m28\u001B[0m  NYK      NYK  \u001B[1;36m104\u001B[0m           \u001B[1;36m110\u001B[0m\n",
       "\u001B[1;36m4\u001B[0m   \u001B[1;36m2025\u001B[0m-\u001B[1;36m04\u001B[0m-\u001B[1;36m08\u001B[0m  NYK      NYK  \u001B[1;36m117\u001B[0m           \u001B[1;36m119\u001B[0m\n",
       "\u001B[1;36m5\u001B[0m   \u001B[1;36m2025\u001B[0m-\u001B[1;36m02\u001B[0m-\u001B[1;36m23\u001B[0m  NYK      BOS  \u001B[1;36m105\u001B[0m           \u001B[1;36m118\u001B[0m\n",
       "\u001B[1;36m6\u001B[0m   \u001B[1;36m2025\u001B[0m-\u001B[1;36m02\u001B[0m-\u001B[1;36m08\u001B[0m  NYK      NYK  \u001B[1;36m104\u001B[0m           \u001B[1;36m131\u001B[0m\n",
       "\u001B[1;36m7\u001B[0m   \u001B[1;36m2024\u001B[0m-\u001B[1;36m10\u001B[0m-\u001B[1;36m22\u001B[0m  NYK      BOS  \u001B[1;36m109\u001B[0m           \u001B[1;36m132\u001B[0m\n",
       "\u001B[1;36m8\u001B[0m   \u001B[1;36m2025\u001B[0m-\u001B[1;36m02\u001B[0m-\u001B[1;36m11\u001B[0m  NYK      IND  \u001B[1;36m128\u001B[0m           \u001B[1;36m115\u001B[0m\n",
       "\u001B[1;36m9\u001B[0m   \u001B[1;36m2024\u001B[0m-\u001B[1;36m11\u001B[0m-\u001B[1;36m10\u001B[0m  NYK      IND  \u001B[1;36m121\u001B[0m           \u001B[1;36m132\u001B[0m\n",
       "\u001B[1;36m10\u001B[0m  \u001B[1;36m2024\u001B[0m-\u001B[1;36m10\u001B[0m-\u001B[1;36m25\u001B[0m  NYK      NYK  \u001B[1;36m123\u001B[0m            \u001B[1;36m98\u001B[0m\n",
       "\u001B[1;36m11\u001B[0m  \u001B[1;36m2025\u001B[0m-\u001B[1;36m02\u001B[0m-\u001B[1;36m28\u001B[0m  CLE      BOS  \u001B[1;36m123\u001B[0m           \u001B[1;36m116\u001B[0m\n",
       "\u001B[1;36m12\u001B[0m  \u001B[1;36m2025\u001B[0m-\u001B[1;36m02\u001B[0m-\u001B[1;36m04\u001B[0m  CLE      CLE  \u001B[1;36m105\u001B[0m           \u001B[1;36m112\u001B[0m\n",
       "\u001B[1;36m13\u001B[0m  \u001B[1;36m2024\u001B[0m-\u001B[1;36m12\u001B[0m-\u001B[1;36m01\u001B[0m  CLE      CLE  \u001B[1;36m115\u001B[0m           \u001B[1;36m111\u001B[0m\n",
       "\u001B[1;36m14\u001B[0m  \u001B[1;36m2024\u001B[0m-\u001B[1;36m11\u001B[0m-\u001B[1;36m19\u001B[0m  CLE      BOS  \u001B[1;36m117\u001B[0m           \u001B[1;36m120\u001B[0m\n",
       "\u001B[1;36m15\u001B[0m  \u001B[1;36m2025\u001B[0m-\u001B[1;36m04\u001B[0m-\u001B[1;36m13\u001B[0m  CLE      CLE  \u001B[1;36m118\u001B[0m           \u001B[1;36m126\u001B[0m\n",
       "\u001B[1;36m16\u001B[0m  \u001B[1;36m2025\u001B[0m-\u001B[1;36m04\u001B[0m-\u001B[1;36m10\u001B[0m  CLE      IND  \u001B[1;36m112\u001B[0m           \u001B[1;36m114\u001B[0m\n",
       "\u001B[1;36m17\u001B[0m  \u001B[1;36m2025\u001B[0m-\u001B[1;36m01\u001B[0m-\u001B[1;36m14\u001B[0m  CLE      IND  \u001B[1;36m127\u001B[0m           \u001B[1;36m117\u001B[0m\n",
       "\u001B[1;36m18\u001B[0m  \u001B[1;36m2025\u001B[0m-\u001B[1;36m01\u001B[0m-\u001B[1;36m12\u001B[0m  CLE      CLE   \u001B[1;36m93\u001B[0m           \u001B[1;36m108\u001B[0m\n",
       "\u001B[1;36m19\u001B[0m  \u001B[1;36m2024\u001B[0m-\u001B[1;36m12\u001B[0m-\u001B[1;36m29\u001B[0m  BOS      BOS  \u001B[1;36m114\u001B[0m           \u001B[1;36m123\u001B[0m\n",
       "\u001B[1;36m20\u001B[0m  \u001B[1;36m2024\u001B[0m-\u001B[1;36m12\u001B[0m-\u001B[1;36m27\u001B[0m  BOS      BOS  \u001B[1;36m142\u001B[0m           \u001B[1;36m105\u001B[0m\n",
       "\u001B[1;36m21\u001B[0m  \u001B[1;36m2024\u001B[0m-\u001B[1;36m10\u001B[0m-\u001B[1;36m30\u001B[0m  BOS      IND  \u001B[1;36m132\u001B[0m           \u001B[1;36m135\u001B[0m\n"
      ],
      "text/html": [
       "<pre style=\"white-space:pre;overflow-x:auto;line-height:normal;font-family:Menlo,'DejaVu Sans Mono',consolas,'Courier New',monospace\">          date team opp_team  pts  opp_team_pts\n",
       "<span style=\"color: #008080; text-decoration-color: #008080; font-weight: bold\">0</span>   <span style=\"color: #008080; text-decoration-color: #008080; font-weight: bold\">2025</span>-<span style=\"color: #008080; text-decoration-color: #008080; font-weight: bold\">04</span>-<span style=\"color: #008080; text-decoration-color: #008080; font-weight: bold\">11</span>  NYK      NYK  <span style=\"color: #008080; text-decoration-color: #008080; font-weight: bold\">102</span>           <span style=\"color: #008080; text-decoration-color: #008080; font-weight: bold\">108</span>\n",
       "<span style=\"color: #008080; text-decoration-color: #008080; font-weight: bold\">1</span>   <span style=\"color: #008080; text-decoration-color: #008080; font-weight: bold\">2025</span>-<span style=\"color: #008080; text-decoration-color: #008080; font-weight: bold\">04</span>-<span style=\"color: #008080; text-decoration-color: #008080; font-weight: bold\">02</span>  NYK      CLE  <span style=\"color: #008080; text-decoration-color: #008080; font-weight: bold\">105</span>           <span style=\"color: #008080; text-decoration-color: #008080; font-weight: bold\">124</span>\n",
       "<span style=\"color: #008080; text-decoration-color: #008080; font-weight: bold\">2</span>   <span style=\"color: #008080; text-decoration-color: #008080; font-weight: bold\">2025</span>-<span style=\"color: #008080; text-decoration-color: #008080; font-weight: bold\">02</span>-<span style=\"color: #008080; text-decoration-color: #008080; font-weight: bold\">21</span>  NYK      CLE  <span style=\"color: #008080; text-decoration-color: #008080; font-weight: bold\">105</span>           <span style=\"color: #008080; text-decoration-color: #008080; font-weight: bold\">142</span>\n",
       "<span style=\"color: #008080; text-decoration-color: #008080; font-weight: bold\">3</span>   <span style=\"color: #008080; text-decoration-color: #008080; font-weight: bold\">2024</span>-<span style=\"color: #008080; text-decoration-color: #008080; font-weight: bold\">10</span>-<span style=\"color: #008080; text-decoration-color: #008080; font-weight: bold\">28</span>  NYK      NYK  <span style=\"color: #008080; text-decoration-color: #008080; font-weight: bold\">104</span>           <span style=\"color: #008080; text-decoration-color: #008080; font-weight: bold\">110</span>\n",
       "<span style=\"color: #008080; text-decoration-color: #008080; font-weight: bold\">4</span>   <span style=\"color: #008080; text-decoration-color: #008080; font-weight: bold\">2025</span>-<span style=\"color: #008080; text-decoration-color: #008080; font-weight: bold\">04</span>-<span style=\"color: #008080; text-decoration-color: #008080; font-weight: bold\">08</span>  NYK      NYK  <span style=\"color: #008080; text-decoration-color: #008080; font-weight: bold\">117</span>           <span style=\"color: #008080; text-decoration-color: #008080; font-weight: bold\">119</span>\n",
       "<span style=\"color: #008080; text-decoration-color: #008080; font-weight: bold\">5</span>   <span style=\"color: #008080; text-decoration-color: #008080; font-weight: bold\">2025</span>-<span style=\"color: #008080; text-decoration-color: #008080; font-weight: bold\">02</span>-<span style=\"color: #008080; text-decoration-color: #008080; font-weight: bold\">23</span>  NYK      BOS  <span style=\"color: #008080; text-decoration-color: #008080; font-weight: bold\">105</span>           <span style=\"color: #008080; text-decoration-color: #008080; font-weight: bold\">118</span>\n",
       "<span style=\"color: #008080; text-decoration-color: #008080; font-weight: bold\">6</span>   <span style=\"color: #008080; text-decoration-color: #008080; font-weight: bold\">2025</span>-<span style=\"color: #008080; text-decoration-color: #008080; font-weight: bold\">02</span>-<span style=\"color: #008080; text-decoration-color: #008080; font-weight: bold\">08</span>  NYK      NYK  <span style=\"color: #008080; text-decoration-color: #008080; font-weight: bold\">104</span>           <span style=\"color: #008080; text-decoration-color: #008080; font-weight: bold\">131</span>\n",
       "<span style=\"color: #008080; text-decoration-color: #008080; font-weight: bold\">7</span>   <span style=\"color: #008080; text-decoration-color: #008080; font-weight: bold\">2024</span>-<span style=\"color: #008080; text-decoration-color: #008080; font-weight: bold\">10</span>-<span style=\"color: #008080; text-decoration-color: #008080; font-weight: bold\">22</span>  NYK      BOS  <span style=\"color: #008080; text-decoration-color: #008080; font-weight: bold\">109</span>           <span style=\"color: #008080; text-decoration-color: #008080; font-weight: bold\">132</span>\n",
       "<span style=\"color: #008080; text-decoration-color: #008080; font-weight: bold\">8</span>   <span style=\"color: #008080; text-decoration-color: #008080; font-weight: bold\">2025</span>-<span style=\"color: #008080; text-decoration-color: #008080; font-weight: bold\">02</span>-<span style=\"color: #008080; text-decoration-color: #008080; font-weight: bold\">11</span>  NYK      IND  <span style=\"color: #008080; text-decoration-color: #008080; font-weight: bold\">128</span>           <span style=\"color: #008080; text-decoration-color: #008080; font-weight: bold\">115</span>\n",
       "<span style=\"color: #008080; text-decoration-color: #008080; font-weight: bold\">9</span>   <span style=\"color: #008080; text-decoration-color: #008080; font-weight: bold\">2024</span>-<span style=\"color: #008080; text-decoration-color: #008080; font-weight: bold\">11</span>-<span style=\"color: #008080; text-decoration-color: #008080; font-weight: bold\">10</span>  NYK      IND  <span style=\"color: #008080; text-decoration-color: #008080; font-weight: bold\">121</span>           <span style=\"color: #008080; text-decoration-color: #008080; font-weight: bold\">132</span>\n",
       "<span style=\"color: #008080; text-decoration-color: #008080; font-weight: bold\">10</span>  <span style=\"color: #008080; text-decoration-color: #008080; font-weight: bold\">2024</span>-<span style=\"color: #008080; text-decoration-color: #008080; font-weight: bold\">10</span>-<span style=\"color: #008080; text-decoration-color: #008080; font-weight: bold\">25</span>  NYK      NYK  <span style=\"color: #008080; text-decoration-color: #008080; font-weight: bold\">123</span>            <span style=\"color: #008080; text-decoration-color: #008080; font-weight: bold\">98</span>\n",
       "<span style=\"color: #008080; text-decoration-color: #008080; font-weight: bold\">11</span>  <span style=\"color: #008080; text-decoration-color: #008080; font-weight: bold\">2025</span>-<span style=\"color: #008080; text-decoration-color: #008080; font-weight: bold\">02</span>-<span style=\"color: #008080; text-decoration-color: #008080; font-weight: bold\">28</span>  CLE      BOS  <span style=\"color: #008080; text-decoration-color: #008080; font-weight: bold\">123</span>           <span style=\"color: #008080; text-decoration-color: #008080; font-weight: bold\">116</span>\n",
       "<span style=\"color: #008080; text-decoration-color: #008080; font-weight: bold\">12</span>  <span style=\"color: #008080; text-decoration-color: #008080; font-weight: bold\">2025</span>-<span style=\"color: #008080; text-decoration-color: #008080; font-weight: bold\">02</span>-<span style=\"color: #008080; text-decoration-color: #008080; font-weight: bold\">04</span>  CLE      CLE  <span style=\"color: #008080; text-decoration-color: #008080; font-weight: bold\">105</span>           <span style=\"color: #008080; text-decoration-color: #008080; font-weight: bold\">112</span>\n",
       "<span style=\"color: #008080; text-decoration-color: #008080; font-weight: bold\">13</span>  <span style=\"color: #008080; text-decoration-color: #008080; font-weight: bold\">2024</span>-<span style=\"color: #008080; text-decoration-color: #008080; font-weight: bold\">12</span>-<span style=\"color: #008080; text-decoration-color: #008080; font-weight: bold\">01</span>  CLE      CLE  <span style=\"color: #008080; text-decoration-color: #008080; font-weight: bold\">115</span>           <span style=\"color: #008080; text-decoration-color: #008080; font-weight: bold\">111</span>\n",
       "<span style=\"color: #008080; text-decoration-color: #008080; font-weight: bold\">14</span>  <span style=\"color: #008080; text-decoration-color: #008080; font-weight: bold\">2024</span>-<span style=\"color: #008080; text-decoration-color: #008080; font-weight: bold\">11</span>-<span style=\"color: #008080; text-decoration-color: #008080; font-weight: bold\">19</span>  CLE      BOS  <span style=\"color: #008080; text-decoration-color: #008080; font-weight: bold\">117</span>           <span style=\"color: #008080; text-decoration-color: #008080; font-weight: bold\">120</span>\n",
       "<span style=\"color: #008080; text-decoration-color: #008080; font-weight: bold\">15</span>  <span style=\"color: #008080; text-decoration-color: #008080; font-weight: bold\">2025</span>-<span style=\"color: #008080; text-decoration-color: #008080; font-weight: bold\">04</span>-<span style=\"color: #008080; text-decoration-color: #008080; font-weight: bold\">13</span>  CLE      CLE  <span style=\"color: #008080; text-decoration-color: #008080; font-weight: bold\">118</span>           <span style=\"color: #008080; text-decoration-color: #008080; font-weight: bold\">126</span>\n",
       "<span style=\"color: #008080; text-decoration-color: #008080; font-weight: bold\">16</span>  <span style=\"color: #008080; text-decoration-color: #008080; font-weight: bold\">2025</span>-<span style=\"color: #008080; text-decoration-color: #008080; font-weight: bold\">04</span>-<span style=\"color: #008080; text-decoration-color: #008080; font-weight: bold\">10</span>  CLE      IND  <span style=\"color: #008080; text-decoration-color: #008080; font-weight: bold\">112</span>           <span style=\"color: #008080; text-decoration-color: #008080; font-weight: bold\">114</span>\n",
       "<span style=\"color: #008080; text-decoration-color: #008080; font-weight: bold\">17</span>  <span style=\"color: #008080; text-decoration-color: #008080; font-weight: bold\">2025</span>-<span style=\"color: #008080; text-decoration-color: #008080; font-weight: bold\">01</span>-<span style=\"color: #008080; text-decoration-color: #008080; font-weight: bold\">14</span>  CLE      IND  <span style=\"color: #008080; text-decoration-color: #008080; font-weight: bold\">127</span>           <span style=\"color: #008080; text-decoration-color: #008080; font-weight: bold\">117</span>\n",
       "<span style=\"color: #008080; text-decoration-color: #008080; font-weight: bold\">18</span>  <span style=\"color: #008080; text-decoration-color: #008080; font-weight: bold\">2025</span>-<span style=\"color: #008080; text-decoration-color: #008080; font-weight: bold\">01</span>-<span style=\"color: #008080; text-decoration-color: #008080; font-weight: bold\">12</span>  CLE      CLE   <span style=\"color: #008080; text-decoration-color: #008080; font-weight: bold\">93</span>           <span style=\"color: #008080; text-decoration-color: #008080; font-weight: bold\">108</span>\n",
       "<span style=\"color: #008080; text-decoration-color: #008080; font-weight: bold\">19</span>  <span style=\"color: #008080; text-decoration-color: #008080; font-weight: bold\">2024</span>-<span style=\"color: #008080; text-decoration-color: #008080; font-weight: bold\">12</span>-<span style=\"color: #008080; text-decoration-color: #008080; font-weight: bold\">29</span>  BOS      BOS  <span style=\"color: #008080; text-decoration-color: #008080; font-weight: bold\">114</span>           <span style=\"color: #008080; text-decoration-color: #008080; font-weight: bold\">123</span>\n",
       "<span style=\"color: #008080; text-decoration-color: #008080; font-weight: bold\">20</span>  <span style=\"color: #008080; text-decoration-color: #008080; font-weight: bold\">2024</span>-<span style=\"color: #008080; text-decoration-color: #008080; font-weight: bold\">12</span>-<span style=\"color: #008080; text-decoration-color: #008080; font-weight: bold\">27</span>  BOS      BOS  <span style=\"color: #008080; text-decoration-color: #008080; font-weight: bold\">142</span>           <span style=\"color: #008080; text-decoration-color: #008080; font-weight: bold\">105</span>\n",
       "<span style=\"color: #008080; text-decoration-color: #008080; font-weight: bold\">21</span>  <span style=\"color: #008080; text-decoration-color: #008080; font-weight: bold\">2024</span>-<span style=\"color: #008080; text-decoration-color: #008080; font-weight: bold\">10</span>-<span style=\"color: #008080; text-decoration-color: #008080; font-weight: bold\">30</span>  BOS      IND  <span style=\"color: #008080; text-decoration-color: #008080; font-weight: bold\">132</span>           <span style=\"color: #008080; text-decoration-color: #008080; font-weight: bold\">135</span>\n",
       "</pre>\n"
      ]
     },
     "metadata": {},
     "output_type": "display_data"
    },
    {
     "data": {
      "text/plain": [
       "\u001B[3m   2024-2025 Regular Season Matchup Records    \u001B[0m\n",
       "┏━━━━━━━━┳━━━━━━━━┳━━━━━━━━━━━━━━━━━━┳━━━━━━━━┓\n",
       "┃\u001B[1m \u001B[0m\u001B[1mTeam A\u001B[0m\u001B[1m \u001B[0m┃\u001B[1m \u001B[0m\u001B[1mTeam B\u001B[0m\u001B[1m \u001B[0m┃\u001B[1m \u001B[0m\u001B[1mPoint Difference\u001B[0m\u001B[1m \u001B[0m┃\u001B[1m \u001B[0m\u001B[1mRecord\u001B[0m\u001B[1m \u001B[0m┃\n",
       "┡━━━━━━━━╇━━━━━━━━╇━━━━━━━━━━━━━━━━━━╇━━━━━━━━┩\n",
       "│ NYK    │ CLE    │              -56 │  0-2   │\n",
       "│ NYK    │ BOS    │              -36 │  0-2   │\n",
       "│ NYK    │ IND    │                2 │  1-1   │\n",
       "│ CLE    │ BOS    │                4 │  1-1   │\n",
       "│ CLE    │ IND    │                8 │  1-1   │\n",
       "│ BOS    │ IND    │               -3 │  0-1   │\n",
       "└────────┴────────┴──────────────────┴────────┘\n"
      ],
      "text/html": [
       "<pre style=\"white-space:pre;overflow-x:auto;line-height:normal;font-family:Menlo,'DejaVu Sans Mono',consolas,'Courier New',monospace\"><span style=\"font-style: italic\">   2024-2025 Regular Season Matchup Records    </span>\n",
       "┏━━━━━━━━┳━━━━━━━━┳━━━━━━━━━━━━━━━━━━┳━━━━━━━━┓\n",
       "┃<span style=\"font-weight: bold\"> Team A </span>┃<span style=\"font-weight: bold\"> Team B </span>┃<span style=\"font-weight: bold\"> Point Difference </span>┃<span style=\"font-weight: bold\"> Record </span>┃\n",
       "┡━━━━━━━━╇━━━━━━━━╇━━━━━━━━━━━━━━━━━━╇━━━━━━━━┩\n",
       "│ NYK    │ CLE    │              -56 │  0-2   │\n",
       "│ NYK    │ BOS    │              -36 │  0-2   │\n",
       "│ NYK    │ IND    │                2 │  1-1   │\n",
       "│ CLE    │ BOS    │                4 │  1-1   │\n",
       "│ CLE    │ IND    │                8 │  1-1   │\n",
       "│ BOS    │ IND    │               -3 │  0-1   │\n",
       "└────────┴────────┴──────────────────┴────────┘\n",
       "</pre>\n"
      ]
     },
     "metadata": {},
     "output_type": "display_data"
    },
    {
     "data": {
      "text/plain": [
       "\u001B[3m   2024-2025 Regular Season Matchup Records    \u001B[0m\n",
       "┏━━━━━━━━┳━━━━━━━━┳━━━━━━━━━━━━━━━━━━┳━━━━━━━━┓\n",
       "┃\u001B[1m \u001B[0m\u001B[1mTeam A\u001B[0m\u001B[1m \u001B[0m┃\u001B[1m \u001B[0m\u001B[1mTeam B\u001B[0m\u001B[1m \u001B[0m┃\u001B[1m \u001B[0m\u001B[1mPoint Difference\u001B[0m\u001B[1m \u001B[0m┃\u001B[1m \u001B[0m\u001B[1mRecord\u001B[0m\u001B[1m \u001B[0m┃\n",
       "┡━━━━━━━━╇━━━━━━━━╇━━━━━━━━━━━━━━━━━━╇━━━━━━━━┩\n",
       "│ NYK    │ CLE    │              -68 │  0-4   │\n",
       "│ NYK    │ BOS    │              -65 │  0-4   │\n",
       "│ NYK    │ IND    │               27 │  2-1   │\n",
       "│ CLE    │ BOS    │                1 │  2-2   │\n",
       "│ CLE    │ IND    │              -15 │  1-3   │\n",
       "│ BOS    │ IND    │               25 │  1-2   │\n",
       "└────────┴────────┴──────────────────┴────────┘\n"
      ],
      "text/html": [
       "<pre style=\"white-space:pre;overflow-x:auto;line-height:normal;font-family:Menlo,'DejaVu Sans Mono',consolas,'Courier New',monospace\"><span style=\"font-style: italic\">   2024-2025 Regular Season Matchup Records    </span>\n",
       "┏━━━━━━━━┳━━━━━━━━┳━━━━━━━━━━━━━━━━━━┳━━━━━━━━┓\n",
       "┃<span style=\"font-weight: bold\"> Team A </span>┃<span style=\"font-weight: bold\"> Team B </span>┃<span style=\"font-weight: bold\"> Point Difference </span>┃<span style=\"font-weight: bold\"> Record </span>┃\n",
       "┡━━━━━━━━╇━━━━━━━━╇━━━━━━━━━━━━━━━━━━╇━━━━━━━━┩\n",
       "│ NYK    │ CLE    │              -68 │  0-4   │\n",
       "│ NYK    │ BOS    │              -65 │  0-4   │\n",
       "│ NYK    │ IND    │               27 │  2-1   │\n",
       "│ CLE    │ BOS    │                1 │  2-2   │\n",
       "│ CLE    │ IND    │              -15 │  1-3   │\n",
       "│ BOS    │ IND    │               25 │  1-2   │\n",
       "└────────┴────────┴──────────────────┴────────┘\n",
       "</pre>\n"
      ]
     },
     "metadata": {},
     "output_type": "display_data"
    }
   ],
   "execution_count": 79
  },
  {
   "cell_type": "code",
   "execution_count": null,
   "metadata": {
    "ExecuteTime": {
     "end_time": "2025-05-14T08:12:04.150695Z",
     "start_time": "2025-05-14T08:12:04.148336Z"
    }
   },
   "outputs": [],
   "source": []
  },
  {
   "cell_type": "code",
   "execution_count": null,
   "metadata": {},
   "outputs": [],
   "source": []
  }
 ],
 "metadata": {
  "kernelspec": {
   "display_name": "Python 3 (ipykernel)",
   "language": "python",
   "name": "python3"
  },
  "language_info": {
   "codemirror_mode": {
    "name": "ipython",
    "version": 3
   },
   "file_extension": ".py",
   "mimetype": "text/x-python",
   "name": "python",
   "nbconvert_exporter": "python",
   "pygments_lexer": "ipython3",
   "version": "3.13.3"
  }
 },
 "nbformat": 4,
 "nbformat_minor": 4
}
